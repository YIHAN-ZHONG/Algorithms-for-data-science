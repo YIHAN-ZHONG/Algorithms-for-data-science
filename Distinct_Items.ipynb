{
  "cells": [
    {
      "cell_type": "markdown",
      "metadata": {
        "id": "OpOHLyhPpaxC"
      },
      "source": [
        "# Algorithms for Data Science"
      ]
    },
    {
      "cell_type": "markdown",
      "metadata": {
        "id": "NvZ7rLY2pg8i"
      },
      "source": [
        "## Counting Distinct Items"
      ]
    },
    {
      "cell_type": "markdown",
      "metadata": {
        "id": "NqIyJ2BgplVA"
      },
      "source": [
        "### 1. Preliminaries \n",
        "\n",
        "The objective of this lab is to implement the Flajolet-Martin approach to count distinct items. First, we generate an universe of $N$ strings of length $12$, and take $d$ items which will constitute our universe of distinct items."
      ]
    },
    {
      "cell_type": "code",
      "execution_count": 1,
      "metadata": {
        "id": "uj1GxrPF_DxQ",
        "colab": {
          "base_uri": "https://localhost:8080/"
        },
        "outputId": "bd174c41-8010-456b-a940-85d3cedd94e7"
      },
      "outputs": [
        {
          "output_type": "stream",
          "name": "stdout",
          "text": [
            "['fvhfbehnvvjl', 'hnfxvvpyogpj', 'vbnvzputlatp']\n"
          ]
        }
      ],
      "source": [
        "import random\n",
        "from string import ascii_lowercase\n",
        "\n",
        "#parameters\n",
        "N = 256 #universe of N \n",
        "d = 3 #distinct items\n",
        "stream_size = 10000\n",
        "\n",
        "#generate some random strings of size 10\n",
        "U = []\n",
        "for _ in range(N):\n",
        "  U.append(''.join(random.choice(ascii_lowercase) for i in range(12)))\n",
        "\n",
        "D = random.sample(U,k=d)\n",
        "\n",
        "print(D)"
      ]
    },
    {
      "cell_type": "markdown",
      "metadata": {
        "id": "GgKzrJj3_oiX"
      },
      "source": [
        "### 2. Flajolet-Martin: Creating a Hash Function, Estimating Distinct Items Using Trailing 0s\n",
        "\n",
        "In the following we create a hash function $h(x)$, which also takes as a parameter a hashable and $N$, and returns a value in $0,\\dots,N-1$. We simulate a stream taking random values from $D$, count the trailing $0$s in its hash value, keep the maximum value $R$, and then output $2^R$ as the estimator."
      ]
    },
    {
      "cell_type": "code",
      "execution_count": 3,
      "metadata": {
        "colab": {
          "base_uri": "https://localhost:8080/"
        },
        "id": "IbQ0B1a3BpAV",
        "outputId": "b75ff75e-3057-4c98-81e5-6e39ed6d464b"
      },
      "outputs": [
        {
          "output_type": "stream",
          "name": "stdout",
          "text": [
            "Estimation of distinct items: 2\n"
          ]
        }
      ],
      "source": [
        "import math\n",
        "import random\n",
        "from datetime import datetime\n",
        "\n",
        "random.seed(datetime.now())\n",
        "\n",
        "def h(x,n):\n",
        "  return hash(x)%n\n",
        "\n",
        "#method for counting trailing 0s\n",
        "def trailing_0(x):\n",
        "  x1 = x\n",
        "  t0 = 0\n",
        "  while x1%2==0 and x1!=0:\n",
        "    t0 += 1\n",
        "    x1 = int(x1/2)\n",
        "  return t0\n",
        "\n",
        "#simulating the stream\n",
        "R = 0\n",
        "for _ in range(stream_size):\n",
        "  #take a random string from the distinct pool\n",
        "  s = random.choice(D)\n",
        "  #check its hash value\n",
        "  hv = h(s,2*N) #to allow more space for hash values\n",
        "  r = trailing_0(hv)\n",
        "  if r>R: R=r\n",
        "\n",
        "est = int(math.pow(2,R))\n",
        "\n",
        "print('Estimation of distinct items: %d'%est)"
      ]
    },
    {
      "cell_type": "markdown",
      "metadata": {
        "id": "Dz9rNT2Na35t"
      },
      "source": [
        "### 3. **TASK** Flajolet-Martin: Using Multiple Hash Functions\n",
        "\n",
        "Implement the refined version of the above estimator, using multiple ($k$) hash functions (use the method of generating several pairs of numbers presented last time in the lab) and compute:\n",
        "1. The average of the $k$ estimators\n",
        "2. The median of the $k$ estimators\n",
        "3. Divide the estimators into groups (vary the group size); take the median in each group and then the average over the groups.\n",
        "\n",
        "Compare the three methods' final outputs. What do you notice?\n",
        "\n",
        "_Note_: you can use the Python 3.4 _statistics_ package (not available in previous versions) to compute medians, averages, and other statistics."
      ]
    },
    {
      "cell_type": "code",
      "execution_count": 18,
      "metadata": {
        "id": "3Va-_6fda-jf",
        "colab": {
          "base_uri": "https://localhost:8080/"
        },
        "outputId": "d061fe9c-d755-4fc2-9f4b-1af27f5743f6"
      },
      "outputs": [
        {
          "output_type": "stream",
          "name": "stdout",
          "text": [
            "the mean of the estimators 7.35\n",
            "the median of the estimators 4.0\n",
            "the mean of the estimators by 5 groups 4.7\n",
            "the median of the estimators by 5 groups 4.0\n",
            "the mean of the estimators by 10 groups 7.35\n",
            "the median of the estimators by 10 groups 3.0\n",
            "the mean of the estimators by 2 groups 3.0\n",
            "the median of the estimators by 2 groups 3.0\n"
          ]
        }
      ],
      "source": [
        "# YOUR CODE HERE\n",
        "import statistics\n",
        "\n",
        "k=20\n",
        "p = 122354367\n",
        "\n",
        "a_list=[]\n",
        "b_list=[]\n",
        "\n",
        "for i in range(k):\n",
        "\n",
        "    7\n",
        "    a = random.randrange(p)\n",
        "    a_list.append(a)\n",
        "    b = random.randrange(p)\n",
        "    b_list.append(b)\n",
        "\n",
        "\n",
        "def h(x,a,b,p,n):\n",
        "  return ((a*hash(x)+b)%p)%n\n",
        "\n",
        "#method for counting trailing 0s\n",
        "def trailing_0(x):\n",
        "  x1 = x\n",
        "  t0 = 0\n",
        "  while x1%2==0 and x1!=0:\n",
        "    t0 += 1\n",
        "    x1 = int(x1/2)\n",
        "  return t0\n",
        "\n",
        "list_r=[]\n",
        "\n",
        "stream = random.choices(D, k=stream_size)\n",
        "\n",
        "for i in range(k):\n",
        "#simulating the stream\n",
        "  R = 0\n",
        "  for s in stream:\n",
        "    #take a random string from the distinct pool\n",
        "    #check its hash value\n",
        "    hv = h(s,a_list[i],b_list[i],p,N) #to allow more space for hash values\n",
        "    r = trailing_0(hv)\n",
        "    if r>R: R=r\n",
        "\n",
        "  list_r.append(int(math.pow(2,R)))\n",
        "\n",
        "\n",
        "print(f'the mean of the estimators {statistics.mean(list_r)}')\n",
        "\n",
        "print(f'the median of the estimators {statistics.median(list_r)}')\n",
        "\n",
        "n=4\n",
        "#list_r_group_mean = [statistics.mean(list_r[i:i + n]) for i in range(0, len(range(k)), n)]\n",
        "list_r_group_median = [statistics.median(list_r[i:i + n]) for i in range(0, len(range(k)), n)]\n",
        "print(f'the mean of the estimators by 5 groups {statistics.mean(list_r_group_median)}')\n",
        "print(f'the median of the estimators by 5 groups {statistics.median(list_r_group_median)}')\n",
        "\n",
        "n=2\n",
        "#list_r_group_mean = [statistics.mean(list_r[i:i + n]) for i in range(0, len(range(k)), n)]\n",
        "list_r_group_median = [statistics.median(list_r[i:i + n]) for i in range(0, len(range(k)), n)]\n",
        "print(f'the mean of the estimators by 10 groups {statistics.mean(list_r_group_median)}')\n",
        "print(f'the median of the estimators by 10 groups {statistics.median(list_r_group_median)}')\n",
        "\n",
        "\n",
        "n=10\n",
        "#list_r_group_mean = [statistics.mean(list_r[i:i + n]) for i in range(0, len(range(k)), n)]\n",
        "list_r_group_median = [statistics.median(list_r[i:i + n]) for i in range(0, len(range(k)), n)]\n",
        "print(f'the mean of the estimators by 2 groups {statistics.mean(list_r_group_median)}')\n",
        "print(f'the median of the estimators by 2 groups {statistics.median(list_r_group_median)}')"
      ]
    },
    {
      "cell_type": "markdown",
      "metadata": {
        "id": "FZHcE7Jve1PR"
      },
      "source": [
        "## Interpretation\n",
        "\n",
        "From the result, we can observe that with the mean method, the erros is large, because we aggregate by the power of two. \n",
        "Taking median is a good estimation. \n",
        "\n",
        "When we devide the estimators by groups, when the group number is small, the estimation is more accurate when using the mean method, however, with a larger group size, the median gives a better result. \n",
        "\n",
        "\n"
      ]
    }
  ],
  "metadata": {
    "colab": {
      "collapsed_sections": [],
      "provenance": []
    },
    "kernelspec": {
      "display_name": "Python 3.10.6 64-bit",
      "language": "python",
      "name": "python3"
    },
    "language_info": {
      "codemirror_mode": {
        "name": "ipython",
        "version": 3
      },
      "file_extension": ".py",
      "mimetype": "text/x-python",
      "name": "python",
      "nbconvert_exporter": "python",
      "pygments_lexer": "ipython3",
      "version": "3.10.6"
    },
    "vscode": {
      "interpreter": {
        "hash": "aee8b7b246df8f9039afb4144a1f6fd8d2ca17a180786b69acc140d282b71a49"
      }
    }
  },
  "nbformat": 4,
  "nbformat_minor": 0
}