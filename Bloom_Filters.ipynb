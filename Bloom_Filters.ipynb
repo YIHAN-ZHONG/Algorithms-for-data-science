{
 "cells": [
  {
   "cell_type": "markdown",
   "metadata": {
    "id": "OpOHLyhPpaxC"
   },
   "source": [
    "# Algorithms for Data Science"
   ]
  },
  {
   "cell_type": "markdown",
   "metadata": {
    "id": "NvZ7rLY2pg8i"
   },
   "source": [
    "## Filtering Stream Items"
   ]
  },
  {
   "cell_type": "markdown",
   "metadata": {
    "id": "NqIyJ2BgplVA"
   },
   "source": [
    "### 1. Preliminaries \n",
    "\n",
    "The objective of this lab is to implement algorithms for filtering \"good\" items on streams. We will start by the simple implementation using only one hash function, and then it will be required of you to implement the full Bloom filter. We assume a random stream $S$ of $m$ email strings. We assume that the first $g$ emails are the good ones, that we have $n$ bits allocated in the bit array $B$ (for simplicity, implemented as an array here)."
   ]
  },
  {
   "cell_type": "code",
   "execution_count": 93,
   "metadata": {
    "id": "uj1GxrPF_DxQ"
   },
   "outputs": [
    {
     "name": "stdout",
     "output_type": "stream",
     "text": [
      "['ltnft@vjnif', 'phehu@fxcfc', 'jfgtv@zczou', 'yncuj@kwiep', 'ndefy@smmhh', 'kskcu@jjovf', 'azgsh@gvwux', 'mycdf@oioal', 'emovw@wlsoa', 'hcvzm@zhlab', 'mudmb@uefmu', 'efhca@ouaks', 'eetdb@vnupu', 'jsjrm@gfuik', 'idzfs@zgfqy', 'oqccc@esdzt', 'scfpx@xthnh', 'gjgeh@xdmal', 'qcgni@gvuof', 'ygbxe@txsyh', 'qtpej@tmngo', 'dwncj@addua', 'lgmdf@ikayz', 'ndvnq@jbezi', 'ohusw@vugsv', 'ktnvb@uazeb', 'fsaob@ltgge', 'tllna@vbzkd', 'tmyrp@dpopb', 'knjnk@cvjkh', 'igtth@sgpbr', 'sslvw@cmysl', 'fkekd@rbkyv', 'zicne@oidfs', 'wbzrh@lnkzs', 'abqcf@focyg', 'ytjyj@rfvxp', 'gcexs@ybvji', 'znfil@gihmv', 'pgjkw@tqpwj', 'hkhpy@coapm', 'dnmbf@kxtwr', 'bmwhw@jpbos', 'uldqc@lrcvz', 'fefci@fzfzj', 'qteve@nymzs', 'vzmbz@glqqv', 'guqed@adwhg', 'tdjuj@oiora', 'brymd@wmznz', 'ervpb@amish', 'usdta@xoaus', 'bkedx@cmibp', 'pyvhz@opeqa', 'adurt@swgms', 'qucrq@ppbnp', 'nxctc@ocwfv', 'tngwg@lplhf', 'idevx@qffyw', 'icacs@kthir', 'osxzu@orwtd', 'wvjml@hvmfc', 'mpsqs@mrdee', 'gifjn@ejzyf', 'mmhgr@fvtfg', 'pwioe@zaamq', 'sqihx@sboov', 'fmsli@ghier', 'felfz@xbotq', 'wqiix@khsai', 'jvork@ckhyb', 'wentp@rqfhm', 'nhwvh@fjdct', 'jjawr@nkdvg', 'papxd@fxfpo', 'vllug@sowry', 'lopbs@ipzrt', 'oyllc@xknda', 'bfgss@hxikj', 'nehtk@pgpxo', 'phiwv@lwjyt', 'iumhq@mexzs', 'sybfm@ndsrx', 'zrcka@yniqa', 'ebozn@pmtjn', 'zjmvr@wgfaz', 'okdfk@lthfp', 'lwnfp@cqoqr', 'gtbop@vwskg', 'ddwta@fitfp', 'ccxrj@mukto', 'jwuri@qcnzk', 'vtvmp@alnzq', 'btqfn@vbjwk', 'nkntk@zpavn', 'bgeld@ncwzh', 'estwx@trpgj', 'gvjtt@pnngc', 'ywgpe@sasbo', 'jzlrl@hdcon']\n"
     ]
    }
   ],
   "source": [
    "import random\n",
    "from string import ascii_lowercase\n",
    "\n",
    "#parameters\n",
    "m = 100\n",
    "g = 10 # number of good ones\n",
    "stream_size = 10000\n",
    "n = 512 # bits\n",
    "\n",
    "#generate some random strings of size 5 + 1 + 5\n",
    "D = []\n",
    "for _ in range(m):\n",
    "  D.append(''.join(random.choice(ascii_lowercase) for i in range(5))+\\\n",
    "           '@'+''.join(random.choice(ascii_lowercase) for i in range(5)))\n",
    "\n",
    "print(D)"
   ]
  },
  {
   "cell_type": "markdown",
   "metadata": {
    "id": "GgKzrJj3_oiX"
   },
   "source": [
    "### 2. Creating a Hash Function, Filtering Items Using a Single Hash\n",
    "\n",
    "In the following we create a hash function $h(x)$, which also takes as a parameter a value and $n$, and returns a value in $0\\dots n-1$. We populate the byte array $B$, and then we simulate a stream taking random values from $D$ and checking whether the value is good or not. We measure the true positive, false positive, and false negative rates. "
   ]
  },
  {
   "cell_type": "code",
   "execution_count": 25,
   "metadata": {},
   "outputs": [
    {
     "data": {
      "text/plain": [
       "1"
      ]
     },
     "execution_count": 25,
     "metadata": {},
     "output_type": "execute_result"
    }
   ],
   "source": [
    "\n",
    "def h(x,n):\n",
    "  return hash(x)%n\n",
    "n=h('ptyzv@zyixz',128)\n",
    "B[n]"
   ]
  },
  {
   "cell_type": "code",
   "execution_count": 55,
   "metadata": {
    "colab": {
     "base_uri": "https://localhost:8080/",
     "height": 35
    },
    "id": "IbQ0B1a3BpAV",
    "outputId": "0ee899b2-b9d8-4a43-8dce-ecf772cfc42a"
   },
   "outputs": [
    {
     "name": "stdout",
     "output_type": "stream",
     "text": [
      "[1, 0, 0, 0, 1, 0, 0, 0, 1, 0, 0, 0, 0, 0, 0, 0, 0, 0, 0, 0, 0, 0, 0, 0, 0, 0, 0, 0, 0, 0, 0, 1, 0, 0, 0, 0, 1, 0, 0, 0, 0, 0, 0, 0, 0, 0, 0, 0, 0, 0, 0, 1, 0, 0, 0, 0, 0, 0, 0, 0, 0, 0, 0, 0, 0, 0, 0, 0, 0, 0, 0, 0, 0, 0, 1, 0, 0, 0, 0, 0, 0, 0, 0, 0, 0, 0, 0, 0, 0, 0, 0, 0, 0, 0, 0, 0, 0, 0, 0, 0, 0, 0, 1, 0, 0, 0, 0, 0, 0, 0, 0, 0, 0, 1, 0, 0, 0, 0, 0, 0, 0, 0, 0, 0, 0, 0, 0, 0]\n",
      "False positive rate: 0.044188\n"
     ]
    }
   ],
   "source": [
    "n = 128\n",
    "\n",
    "#hash function\n",
    "def h(x,n):\n",
    "  return hash(x)%n  # keep the last bits from the hash\n",
    "\n",
    "good_set = set(D[:g]) #just for checking TP and FP rates\n",
    "\n",
    "#allocate the array of 0s\n",
    "B = [0] * n\n",
    "\n",
    "#fill the byte array\n",
    "for i in range(g): B[h(D[i],n)] = 1  \n",
    "    \n",
    "print(B)\n",
    "\n",
    "tp = 0 # good items passing\n",
    "fp = 0 # bad items passing\n",
    "tn = 0 # bad items discarded\n",
    "fn = 0 # good items discarded\n",
    "\n",
    "#simulate a stream\n",
    "for _ in range(stream_size):\n",
    "  #take a random email\n",
    "  s = random.choice(D)\n",
    "  #check its hash value\n",
    "  if B[h(s,n)]==1: #good\n",
    "    if s not in good_set:\n",
    "      fp += 1\n",
    "    else:\n",
    "      tp += 1\n",
    "  else: #bad \n",
    "    if s in good_set:\n",
    "      fn += 1\n",
    "    else:\n",
    "      tn += 1\n",
    "\n",
    "print('False positive rate: %f'%(float(fp)/float(tn+fp)))"
   ]
  },
  {
   "cell_type": "markdown",
   "metadata": {
    "id": "poLqQQeBanUH"
   },
   "source": [
    "We may want to create a random hash function that can also be pairwise independent when we will need to generate $k$ independent pairwise hashes.\n",
    "The following procedure can be implemented:\n",
    "* choose a large prime number $p$\n",
    "* generate two random numbers $a$ and $b$ in the range $\\{1,\\dots,p\\}$\n",
    "* the hash is then $h_{a,b}(x)=ax+b \\mod p$\n",
    "* we can also restrict it into $\\{0,\\dots,n-1\\}$"
   ]
  },
  {
   "cell_type": "code",
   "execution_count": 28,
   "metadata": {
    "colab": {
     "base_uri": "https://localhost:8080/",
     "height": 55
    },
    "id": "muzsN80wa3gY",
    "outputId": "addce3d3-7228-4c61-9402-c2ebc55f0075"
   },
   "outputs": [
    {
     "name": "stdout",
     "output_type": "stream",
     "text": [
      "[0, 0, 0, 0, 0, 0, 0, 1, 0, 0, 0, 0, 0, 0, 0, 0, 0, 0, 0, 0, 0, 0, 0, 0, 0, 0, 0, 1, 0, 0, 0, 0, 0, 0, 0, 0, 0, 0, 0, 0, 0, 0, 0, 0, 0, 0, 0, 0, 0, 0, 0, 0, 0, 0, 0, 0, 0, 0, 1, 0, 0, 0, 0, 0, 0, 0, 1, 1, 0, 0, 0, 0, 0, 0, 0, 0, 0, 0, 0, 0, 0, 0, 0, 0, 1, 0, 0, 0, 0, 0, 0, 0, 0, 0, 0, 1, 0, 1, 0, 0, 0, 0, 0, 0, 0, 0, 1, 0, 0, 0, 0, 0, 0, 0, 0, 0, 0, 1, 0, 0, 0, 0, 0, 0, 0, 0, 0, 0]\n"
     ]
    }
   ],
   "source": [
    "p = 1223543677\n",
    "\n",
    "a = random.randrange(p)\n",
    "b = random.randrange(p)\n",
    "\n",
    "def h(x,a,b,p,n):\n",
    "  return ((a*hash(x)+b)%p)%n\n",
    "#remark: here we use hash(x) instead of the values to allow for all hashable python types\n",
    "#   e.g., strings, tuples\n",
    "\n",
    "#reinitialize the array, for testing\n",
    "B = [0] * n\n",
    "\n",
    "for i in range(g): \n",
    "  B[h(D[i],a,b,p,n)] = 1\n",
    "\n",
    "print(B)\n",
    "\n"
   ]
  },
  {
   "cell_type": "markdown",
   "metadata": {
    "id": "Dz9rNT2Na35t"
   },
   "source": [
    "### 3. **TASK** - Bloom Filters\n",
    "\n",
    "Your task is to implement the Bloom filters as described in the class lecture. For this, you have to:\n",
    "1. generate $k$ random pairwise independent hash functions (_hint_: use the example shown above)\n",
    "2. initialize $B$, by setting $1$ in each $h_i(x)$, $i\\in\\{1,\\dots,k\\}$, for all items $x$ in the good set\n",
    "3. an item $s$ in the stream is considered good if, for all $i\\in\\{1,\\dots,k\\}$, we have $B[h_i(s)]=1$\n",
    "\n",
    "Measure the true positive and false positive rate for various values of $k$ and compare to the values obtained when setting $k=n/m\\ln 2$ (to the nearest integer value). What do you notice?\n",
    "\n",
    "Rates:\n",
    "\n",
    "$\n",
    "  \\text{false positive rate} \\frac{FP}{FP+TN}\n",
    "$\n",
    "\n",
    "$\n",
    "  \\text{true positive rate} \\frac{TP}{TP+FN}\n",
    "$"
   ]
  },
  {
   "cell_type": "markdown",
   "metadata": {},
   "source": [
    "**Try to validate the number of hash functions with fp and tp** (varying hush functions k and calculate the FP)\n",
    "\n",
    "Change m, g to see how it works"
   ]
  },
  {
   "cell_type": "code",
   "execution_count": 100,
   "metadata": {},
   "outputs": [
    {
     "data": {
      "text/plain": [
       "587204757"
      ]
     },
     "execution_count": 100,
     "metadata": {},
     "output_type": "execute_result"
    }
   ],
   "source": [
    "p = 1223543677\n",
    "a = random.randrange(p)\n",
    "b = random.randrange(p)\n",
    "a"
   ]
  },
  {
   "cell_type": "code",
   "execution_count": 70,
   "metadata": {
    "id": "3Va-_6fda-jf"
   },
   "outputs": [
    {
     "name": "stdout",
     "output_type": "stream",
     "text": [
      "[0, 0, 0, 0, 0, 1, 0, 0, 0, 0, 0, 0, 0, 0, 0, 0, 0, 0, 0, 0, 0, 0, 0, 0, 0, 1, 0, 0, 0, 0, 0, 0, 0, 0, 0, 0, 0, 0, 0, 0, 0, 0, 0, 0, 0, 0, 0, 0, 0, 0, 0, 0, 0, 0, 0, 0, 0, 0, 0, 0, 0, 0, 0, 0, 0, 0, 0, 0, 1, 0, 1, 0, 0, 0, 0, 0, 0, 0, 0, 1, 0, 0, 0, 0, 0, 0, 0, 0, 0, 0, 0, 0, 0, 0, 0, 0, 0, 0, 0, 0, 0, 0, 1, 0, 0, 0, 0, 0, 0, 0, 0, 0, 0, 0, 0, 0, 0, 0, 0, 1, 0, 0, 1, 0, 0, 1, 0, 0]\n",
      "False positive rate: 0.063195\n"
     ]
    }
   ],
   "source": [
    "# YOUR CODE HERE\n",
    "k = 1 # number of hush functions\n",
    "#reinitialize the array, for testing\n",
    "B = [0] * n\n",
    "\n",
    "a_list=[]\n",
    "b_list=[]\n",
    "\n",
    "def h(x,a,b,p,n):\n",
    "  return ((a*hash(x)+b)%p)%n\n",
    "\n",
    "for i in range(k):\n",
    "\n",
    "    p = 1223543677\n",
    "    a = random.randrange(p)\n",
    "    a_list.append(a)\n",
    "    b = random.randrange(p)\n",
    "    b_list.append(b)\n",
    "    \n",
    "    for i in range(g):\n",
    "        B[h(D[i],a,b,p,n)] = 1\n",
    "\n",
    "print(B)\n",
    "\n",
    "#simulate a stream\n",
    "for _ in range(stream_size):\n",
    "  #take a random email\n",
    "  s = random.choice(D)\n",
    "  #check its hash value\n",
    "  for i in range(k):\n",
    "\n",
    "    a = a_list[i]\n",
    "    b = b_list[i]\n",
    "    num=0 \n",
    "    if B[h(s,a,b,p,n)] == 1:\n",
    "        num +=1\n",
    "    if num == k: # good\n",
    "        if s not in good_set:\n",
    "          fp += 1\n",
    "        else:\n",
    "            tp+=1\n",
    "    else: #bad\n",
    "        if s in good_set:\n",
    "          fn += 1\n",
    "        else:\n",
    "          tn += 1\n",
    "\n",
    "print('False positive rate: %f'%(float(fp)/float(tn+fp)))\n",
    "#remark: here we use hash(x) instead of the values to allow for all hashable python types\n",
    "#   e.g., strings, tuples"
   ]
  },
  {
   "cell_type": "code",
   "execution_count": 91,
   "metadata": {},
   "outputs": [
    {
     "name": "stdout",
     "output_type": "stream",
     "text": [
      "False positive rate: 0.054566\n",
      "False positive rate: 0.000000\n",
      "False positive rate: 0.000000\n",
      "False positive rate: 0.000000\n",
      "False positive rate: 0.000000\n",
      "False positive rate: 0.000000\n",
      "False positive rate: 0.000000\n",
      "False positive rate: 0.000000\n",
      "False positive rate: 0.000000\n",
      "False positive rate: 0.000000\n",
      "False positive rate: 0.000000\n",
      "False positive rate: 0.000000\n",
      "False positive rate: 0.000000\n",
      "False positive rate: 0.000000\n",
      "False positive rate: 0.000000\n",
      "False positive rate: 0.000000\n",
      "False positive rate: 0.000000\n",
      "False positive rate: 0.000000\n",
      "False positive rate: 0.000000\n",
      "False positive rate: 0.000000\n"
     ]
    }
   ],
   "source": [
    "import numpy as np\n",
    "k_list=list(range(1,21))\n",
    "fp_list=[]\n",
    "n=128\n",
    "def h(x,a,b,p,n):\n",
    "  return ((a*hash(x)+b)%p)%n\n",
    "\n",
    "for k in k_list:\n",
    "    fp=0\n",
    "    tp=0\n",
    "    fn=0\n",
    "    tn=0\n",
    "    B = [0] * n\n",
    "    a_list=[]\n",
    "    b_list=[]\n",
    "    for i in range(k):\n",
    "\n",
    "        p = 1223543677\n",
    "        a = random.randrange(p)\n",
    "        a_list.append(a)\n",
    "        b = random.randrange(p)\n",
    "        b_list.append(b)\n",
    "\n",
    "        for i in range(g):\n",
    "            B[h(D[i],a,b,p,n)] = 1\n",
    "\n",
    "    for _ in range(stream_size):\n",
    "        #take a random email\n",
    "        s = random.choice(D)\n",
    "        #check its hash value\n",
    "        for i in range(k):\n",
    "\n",
    "            a = a_list[i]\n",
    "            b = b_list[i]\n",
    "            num=0 \n",
    "            if B[h(s,a,b,p,n)] == 1:\n",
    "                num +=1\n",
    "        if num == k: # good\n",
    "            if s not in good_set:\n",
    "                fp += 1\n",
    "            else:\n",
    "                tp+=1\n",
    "        else: #bad\n",
    "            if s in good_set:\n",
    "                fn += 1\n",
    "            else:\n",
    "                tn += 1\n",
    "    fp_rate=float(fp)/float(tn+fp)\n",
    "    print('False positive rate: %f'%(float(fp)/float(tn+fp)))"
   ]
  },
  {
   "cell_type": "markdown",
   "metadata": {
    "id": "FZHcE7Jve1PR"
   },
   "source": [
    "_You can use this cell to write your discussion of the results_"
   ]
  },
  {
   "cell_type": "code",
   "execution_count": 111,
   "metadata": {},
   "outputs": [],
   "source": [
    "import numpy as np\n",
    "k_list=list(range(1,51))\n",
    "fp_list=[]\n",
    "n=128\n",
    "def h(x,a,b,p,n):\n",
    "  return ((a*hash(x)+b)%p)%n\n",
    "\n",
    "for k in k_list:\n",
    "    fp=0\n",
    "    tp=0\n",
    "    fn=0\n",
    "    tn=0\n",
    "    B = [0] * n\n",
    "    a_list=[]\n",
    "    b_list=[]\n",
    "    p = 1223543677\n",
    "    for i in range(k):\n",
    "\n",
    "        a = random.randrange(p)\n",
    "        a_list.append(a)\n",
    "        b = random.randrange(p)\n",
    "        b_list.append(b)\n",
    "\n",
    "        for i in range(g):\n",
    "            B[h(D[i],a,b,p,n)] = 1\n",
    "\n",
    "    for _ in range(stream_size):\n",
    "        #take a random email\n",
    "        s = random.choice(D)\n",
    "        #check its hash value\n",
    "        \n",
    "        if min([ B[h(s,a,b,p,n)] for a,b in zip(a_list,b_list)])==1:\n",
    "\n",
    "            if s not in good_set:\n",
    "                fp += 1\n",
    "            else:\n",
    "                tp+=1\n",
    "        else: #bad\n",
    "            if s in good_set:\n",
    "                fn += 1\n",
    "            else:\n",
    "                tn += 1\n",
    "    fp_rate=float(fp)/float(tn+fp)\n",
    "    fp_list.append(fp_rate)\n",
    "    #print('False positive rate: %f'%(float(fp)/float(tn+fp)))"
   ]
  },
  {
   "cell_type": "code",
   "execution_count": 112,
   "metadata": {},
   "outputs": [
    {
     "name": "stdout",
     "output_type": "stream",
     "text": [
      "[0.1768, 0.1319, 0.1014, 0.1047, 0.0966, 0.0985, 0.1076, 0.0993, 0.1011, 0.1142, 0.0977, 0.0999, 0.095, 0.0963, 0.1085, 0.1132, 0.1012, 0.0947, 0.1214, 0.1035, 0.1405, 0.1111, 0.1048, 0.1061, 0.1243, 0.1754, 0.1001, 0.1179, 0.1236, 0.1403, 0.1295, 0.1413, 0.1668, 0.1477, 0.1296, 0.3507, 0.2266, 0.3683, 0.3045, 0.2774, 0.3601, 0.1402, 0.353, 0.306, 0.421, 0.6143, 0.5349, 0.7135, 0.3037, 1.0]\n"
     ]
    }
   ],
   "source": [
    "print(fp_list)"
   ]
  },
  {
   "cell_type": "code",
   "execution_count": 113,
   "metadata": {},
   "outputs": [
    {
     "name": "stdout",
     "output_type": "stream",
     "text": [
      "[1, 2, 3, 4, 5, 6, 7, 8, 9, 10, 11, 12, 13, 14, 15, 16, 17, 18, 19, 20, 21, 22, 23, 24, 25, 26, 27, 28, 29, 30, 31, 32, 33, 34, 35, 36, 37, 38, 39, 40, 41, 42, 43, 44, 45, 46, 47, 48, 49, 50]\n"
     ]
    }
   ],
   "source": [
    "print(k_list)"
   ]
  },
  {
   "cell_type": "markdown",
   "metadata": {},
   "source": [
    "## Print the k-fp curve"
   ]
  },
  {
   "cell_type": "code",
   "execution_count": 120,
   "metadata": {},
   "outputs": [
    {
     "data": {
      "image/png": "[encoded data removed]",
      "text/plain": [
       "<Figure size 432x288 with 1 Axes>"
      ]
     },
     "metadata": {
      "needs_background": "light"
     },
     "output_type": "display_data"
    }
   ],
   "source": [
    "import matplotlib.pyplot as plt\n",
    "plt.plot(k_list, fp_list)\n",
    "plt.xlabel('number of pariwise hash functions')\n",
    "plt.ylabel('false postive')\n",
    "plt.show()"
   ]
  },
  {
   "cell_type": "code",
   "execution_count": 118,
   "metadata": {},
   "outputs": [],
   "source": [
    "ex_list=[]\n",
    "for f,k in zip(fp_list,k_list):\n",
    "    ex=(1-np.exp(-k*g/n))**k\n",
    "    ex_list.append(ex)"
   ]
  },
  {
   "cell_type": "code",
   "execution_count": 125,
   "metadata": {},
   "outputs": [
    {
     "data": {
      "text/plain": [
       "8.8722839111673"
      ]
     },
     "execution_count": 125,
     "metadata": {},
     "output_type": "execute_result"
    }
   ],
   "source": [
    "k_op=n/g*ln(2)\n",
    "k_op"
   ]
  },
  {
   "cell_type": "code",
   "execution_count": 134,
   "metadata": {},
   "outputs": [
    {
     "data": {
      "image/png": "[encoded data removed]",
      "text/plain": [
       "<Figure size 432x288 with 1 Axes>"
      ]
     },
     "metadata": {
      "needs_background": "light"
     },
     "output_type": "display_data"
    }
   ],
   "source": [
    "import matplotlib.pyplot as plt\n",
    "plt.plot(k_list, ex_list)\n",
    "plt.axvline(x=k_op, color='red', label = 'optimal k value')\n",
    "plt.xlabel('number of pariwise hash functions')\n",
    "plt.ylabel('false postive probability')\n",
    "plt.legend(bbox_to_anchor = (1.0, 1), loc = 'upper left')\n",
    "plt.show()"
   ]
  },
  {
   "cell_type": "markdown",
   "metadata": {},
   "source": [
    "## Interpretation"
   ]
  },
  {
   "cell_type": "markdown",
   "metadata": {},
   "source": [
    "After comparing two graphes, we can observe that the relation between number of hash functions and false positive match with the theoritical function. The optimal number of function follows the function 𝑘=𝑛/𝑚ln2, which is around nine. "
   ]
  }
 ],
 "metadata": {
  "colab": {
   "collapsed_sections": [],
   "name": "m2_ds_algods_lab2_filtering_solved.ipynb",
   "provenance": []
  },
  "kernelspec": {
   "display_name": "Python 3",
   "language": "python",
   "name": "python3"
  },
  "language_info": {
   "codemirror_mode": {
    "name": "ipython",
    "version": 3
   },
   "file_extension": ".py",
   "mimetype": "text/x-python",
   "name": "python",
   "nbconvert_exporter": "python",
   "pygments_lexer": "ipython3",
   "version": "3.8.8"
  },
  "vscode": {
   "interpreter": {
    "hash": "916dbcbb3f70747c44a77c7bcd40155683ae19c65e1c03b4aa3499c5328201f1"
   }
  }
 },
 "nbformat": 4,
 "nbformat_minor": 2
}
